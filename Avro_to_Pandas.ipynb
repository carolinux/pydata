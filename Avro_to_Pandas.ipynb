{
 "metadata": {
  "name": ""
 },
 "nbformat": 3,
 "nbformat_minor": 0,
 "worksheets": [
  {
   "cells": [
    {
     "cell_type": "code",
     "collapsed": true,
     "input": [
      "%pylab inline --no-import-all\n",
      "# imports\n",
      "from avro import schema, datafile, io\n",
      "import pandas\n",
      "import json # for pretty printing schema\n",
      "from datetime import datetime\n",
      "from matplotlib import pyplot as plt\n",
      "import numpy as np\n",
      "from scipy import stats"
     ],
     "language": "python",
     "metadata": {},
     "outputs": []
    },
    {
     "cell_type": "code",
     "collapsed": true,
     "input": [
      "rec_schema = schema.parse(open(\"mall_visit.avsc\").read())\n",
      "print \"Schema of records :\", json.dumps(rec_schema.to_json(), indent=4)"
     ],
     "language": "python",
     "metadata": {},
     "outputs": []
    },
    {
     "cell_type": "code",
     "collapsed": false,
     "input": [
      "# read avro file\n",
      "f = open('sample.avro', 'rb')\n",
      "\n",
      "rec_reader = io.DatumReader()\n",
      "datafile_reader = datafile.DataFileReader(f,rec_reader)\n",
      "\n",
      "print \"Codec of avro:\",datafile_reader.codec\n"
     ],
     "language": "python",
     "metadata": {},
     "outputs": []
    },
    {
     "cell_type": "code",
     "collapsed": false,
     "input": [
      "# read avro records\n",
      "records = [x for x in datafile_reader]\n",
      "datafile_reader.close()\n",
      "    \n",
      "print \"Last record:\",records[-1]\n",
      "\n",
      "\n",
      "    "
     ],
     "language": "python",
     "metadata": {},
     "outputs": []
    },
    {
     "cell_type": "code",
     "collapsed": false,
     "input": [
      "io.validate(rec_schema,records[-1])"
     ],
     "language": "python",
     "metadata": {},
     "outputs": []
    },
    {
     "cell_type": "code",
     "collapsed": true,
     "input": [
      "# create dataframe\n",
      "visits = pd.DataFrame.from_records(records)\n",
      "visits.head()"
     ],
     "language": "python",
     "metadata": {},
     "outputs": []
    },
    {
     "cell_type": "code",
     "collapsed": true,
     "input": [
      "# get date_range\n",
      "HOUR_OFFSET = 8 # Asia\n",
      "\n",
      "visits[\"start_dt\"] = visits.start.apply(lambda x: datetime.utcfromtimestamp(x + HOUR_OFFSET*3600))\n",
      "\n",
      "visits[\"end_dt\"] = visits.end.apply(lambda x: datetime.utcfromtimestamp(x + HOUR_OFFSET*3600))\n",
      "\n",
      "print \"Data from {} to {}.\".format(visits.start_dt.min(), visits.end_dt.max())"
     ],
     "language": "python",
     "metadata": {},
     "outputs": []
    },
    {
     "cell_type": "code",
     "collapsed": true,
     "input": [
      "# filter data (get wednesday 19 Feb 2014)\n",
      "visits19 = visits[(visits.start_dt<datetime(2014,2,20))\n",
      "                  & (visits.start_dt>=datetime(2014,2,19))\n",
      "                  & (visits.end_dt<datetime(2014,2,20))]\n",
      "\n",
      "visits19 = visits19.sort(\"start\")\n",
      "print visits19.head()\n",
      "print \"\\nData from {} to {}.\".format(visits19.start_dt.min(), visits19.end_dt.max())"
     ],
     "language": "python",
     "metadata": {},
     "outputs": []
    },
    {
     "cell_type": "code",
     "collapsed": true,
     "input": [
      "# plot arrival and departure trend (grouped by 10 minutes)\n",
      "interval=\"10min\"\n",
      "arrivals = visits19.set_index('start_dt').groupby(pd.TimeGrouper(interval)).Uid.nunique()\n",
      "\n",
      "arrivals.plot()\n",
      "plt.title(\"Arrivals\")\n",
      "plt.show()\n",
      "\n",
      "departures = visits19.sort(\"end_dt\").set_index('end_dt').groupby(pd.TimeGrouper(interval)).Uid.nunique()\n",
      "\n",
      "departures.plot()\n",
      "plt.title(\"Departures\")\n",
      "plt.show()\n"
     ],
     "language": "python",
     "metadata": {},
     "outputs": []
    },
    {
     "cell_type": "code",
     "collapsed": true,
     "input": [
      "# compare arrival of repeat visitors\n",
      "\n",
      "arrivals = visits19.set_index('start_dt').groupby(pd.TimeGrouper(interval)).Uid.nunique()\n",
      "arrivals.plot()\n",
      "rearrivals = visits19[visits19.isRepeatVisitor==\"True\"].set_index('start_dt').groupby(pd.TimeGrouper(interval)).Uid.nunique()\n",
      "rearrivals.plot()\n",
      "plt.title(\"Visits vs ReVisits\")\n",
      "plt.show()\n",
      "\n",
      "\n"
     ],
     "language": "python",
     "metadata": {},
     "outputs": []
    },
    {
     "cell_type": "code",
     "collapsed": true,
     "input": [
      "# observe behavior of return visitors\n",
      "\n",
      "visits19[\"duration\"] = visits.end_dt - visits.start_dt\n",
      "visits19.duration = visits19.duration.apply(lambda x:x/np.timedelta64(1, 'm')) # get it in minutes\n",
      "\n",
      "print \"Median visit duration:\",visits19[visits19.duration>10].duration.median()\n",
      "print \"Median visit duration of returning visitors:\",visits19[(visits19.isRepeatVisitor==\"True\") \n",
      "                                                              & (visits19.duration>10)].duration.median()\n",
      "print \"Median visit duration of first time visitors:\",visits19[(visits19.isRepeatVisitor==\"False\") \n",
      "                                                               & (visits19.duration>10)].duration.median()"
     ],
     "language": "python",
     "metadata": {},
     "outputs": []
    },
    {
     "cell_type": "code",
     "collapsed": true,
     "input": [
      "\n",
      "tstat, pval = stats.ttest_ind(visits19[(visits19.isRepeatVisitor==\"True\") \n",
      "                                       & (visits19.duration>10)].duration,\n",
      "                visits19[ (visits19.duration>10) \n",
      "                         & (visits19.isRepeatVisitor==\"False\")].duration)\n",
      "print \"If pval is close to zero, the two samples means differ significantly. pval = \",pval"
     ],
     "language": "python",
     "metadata": {},
     "outputs": []
    },
    {
     "cell_type": "code",
     "collapsed": false,
     "input": [],
     "language": "python",
     "metadata": {},
     "outputs": []
    },
    {
     "cell_type": "code",
     "collapsed": false,
     "input": [],
     "language": "python",
     "metadata": {},
     "outputs": []
    }
   ],
   "metadata": {}
  }
 ]
}